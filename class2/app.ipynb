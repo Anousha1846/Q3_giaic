{
 "cells": [
  {
   "cell_type": "code",
   "execution_count": 149,
   "metadata": {},
   "outputs": [
    {
     "name": "stdout",
     "output_type": "stream",
     "text": [
      "{'sara', 'ali', 'qamar'}\n"
     ]
    }
   ],
   "source": [
    "name: set = {\"ali\", \"sara\" , \"qamar\" ,\"qamar\"}\n",
    "\n",
    "print(name) "
   ]
  },
  {
   "cell_type": "code",
   "execution_count": 150,
   "metadata": {},
   "outputs": [
    {
     "name": "stdout",
     "output_type": "stream",
     "text": [
      "qamar\n"
     ]
    }
   ],
   "source": [
    "newteam: tuple = (\"ali\", \"sara\" , \"qamar\")\n",
    "# newteam.pop()\n",
    "# newteam.append(\"aina\")\n",
    "print(newteam[2]) "
   ]
  },
  {
   "cell_type": "code",
   "execution_count": 151,
   "metadata": {},
   "outputs": [
    {
     "name": "stdout",
     "output_type": "stream",
     "text": [
      "['ali', 'sara', 'aina']\n"
     ]
    }
   ],
   "source": [
    "team = [\"ali\", \"sara\" , \"qamar\"]\n",
    "team.pop()\n",
    "team.append(\"aina\")\n",
    "print(team) "
   ]
  },
  {
   "cell_type": "code",
   "execution_count": 152,
   "metadata": {},
   "outputs": [
    {
     "name": "stdout",
     "output_type": "stream",
     "text": [
      "False\n"
     ]
    }
   ],
   "source": [
    "\n",
    "user1 = {\n",
    "    \"name\" : \"Anousha\",\n",
    "    \"age\": 18,\n",
    "    \"married\": False, \n",
    "}\n",
    "\n",
    "print(user1[\"married\"])"
   ]
  },
  {
   "cell_type": "code",
   "execution_count": 153,
   "metadata": {},
   "outputs": [
    {
     "name": "stdout",
     "output_type": "stream",
     "text": [
      "do this\n"
     ]
    }
   ],
   "source": [
    "task = \"do it\"\n",
    "print(task.replace(\"it\" , \"this\"))"
   ]
  },
  {
   "cell_type": "code",
   "execution_count": 154,
   "metadata": {},
   "outputs": [
    {
     "name": "stdout",
     "output_type": "stream",
     "text": [
      "loser😒\n"
     ]
    }
   ],
   "source": [
    "import random\n",
    "\n",
    "bobzi_runs = random.randint(0,155)\n",
    "balls_faced= 86\n",
    "\n",
    "if(bobzi_runs > 100 and balls_faced < bobzi_runs ):\n",
    "    print(\"king👑👑\")\n",
    "else: \n",
    "    print(\"loser😒\")"
   ]
  },
  {
   "cell_type": "code",
   "execution_count": 155,
   "metadata": {},
   "outputs": [
    {
     "name": "stdout",
     "output_type": "stream",
     "text": [
      "ali,sara,qamar\n"
     ]
    }
   ],
   "source": [
    "team = [\"ali\", \"sara\" , \"qamar\"]\n",
    "print(\",\".join(team))"
   ]
  },
  {
   "cell_type": "code",
   "execution_count": 156,
   "metadata": {},
   "outputs": [
    {
     "name": "stdout",
     "output_type": "stream",
     "text": [
      "['Hello', 'world Anousha']\n"
     ]
    }
   ],
   "source": [
    "message2 = \"Hello, world Anousha\"\n",
    "print(message2.split(\", \"))"
   ]
  },
  {
   "cell_type": "code",
   "execution_count": 157,
   "metadata": {},
   "outputs": [
    {
     "name": "stdout",
     "output_type": "stream",
     "text": [
      "104\n",
      "101\n",
      "108\n",
      "108\n",
      "111\n"
     ]
    }
   ],
   "source": [
    "message:bytes = b\"hello\"\n",
    "\n",
    "for i in message:\n",
    "  print(i)"
   ]
  }
 ],
 "metadata": {
  "kernelspec": {
   "display_name": "base",
   "language": "python",
   "name": "python3"
  },
  "language_info": {
   "codemirror_mode": {
    "name": "ipython",
    "version": 3
   },
   "file_extension": ".py",
   "mimetype": "text/x-python",
   "name": "python",
   "nbconvert_exporter": "python",
   "pygments_lexer": "ipython3",
   "version": "3.11.5"
  }
 },
 "nbformat": 4,
 "nbformat_minor": 2
}
